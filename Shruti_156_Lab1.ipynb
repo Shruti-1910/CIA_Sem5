{
  "nbformat": 4,
  "nbformat_minor": 0,
  "metadata": {
    "colab": {
      "provenance": []
    },
    "kernelspec": {
      "name": "python3",
      "display_name": "Python 3"
    },
    "language_info": {
      "name": "python"
    }
  },
  "cells": [
    {
      "cell_type": "markdown",
      "source": [
        "# Single Layer Perceptron to classify the output of an XOR gate."
      ],
      "metadata": {
        "id": "XwLxDHA79Kzp"
      }
    },
    {
      "cell_type": "markdown",
      "source": [
        "XOR gate's truth table"
      ],
      "metadata": {
        "id": "YOsFodAd-KO7"
      }
    },
    {
      "cell_type": "code",
      "source": [
        "import numpy as np\n",
        "import pandas as pd\n",
        "\n",
        "# XOR truth table inputs and outputs\n",
        "X = np.array([[0, 0], [0, 1], [1, 0], [1, 1]])\n",
        "y = np.array([0, 1, 1, 0])\n"
      ],
      "metadata": {
        "id": "-njLcao29DuP"
      },
      "execution_count": 9,
      "outputs": []
    },
    {
      "cell_type": "markdown",
      "source": [
        "Perceptron model"
      ],
      "metadata": {
        "id": "bE-rDbHo-McE"
      }
    },
    {
      "cell_type": "code",
      "source": [
        "class Perceptron:\n",
        "    def __init__(self, learning_rate=0.1, epochs=10):\n",
        "        self.learning_rate = learning_rate\n",
        "        self.epochs = epochs\n",
        "        self.weights = None\n",
        "        self.bias = None\n",
        "\n",
        "    def activation_function(self, x):\n",
        "        return 1 if x >= 0 else 0\n",
        "\n",
        "    def fit(self, X, y):\n",
        "        # Initialize weights and bias\n",
        "        self.weights = np.zeros(X.shape[1])\n",
        "        self.bias = 0\n",
        "\n",
        "        # Training the model\n",
        "        for _ in range(self.epochs):\n",
        "            for idx, x_i in enumerate(X):\n",
        "                linear_output = np.dot(x_i, self.weights) + self.bias\n",
        "                y_predicted = self.activation_function(linear_output)\n",
        "\n",
        "                # Update rule\n",
        "                update = self.learning_rate * (y[idx] - y_predicted)\n",
        "                self.weights += update * x_i\n",
        "                self.bias += update\n",
        "\n",
        "    def predict(self, X):\n",
        "        linear_output = np.dot(X, self.weights) + self.bias\n",
        "        return np.array([self.activation_function(x) for x in linear_output])\n",
        "\n",
        "# Initialize and train the perceptron\n",
        "perceptron = Perceptron(learning_rate=0.1, epochs=10)\n",
        "perceptron.fit(X, y)\n",
        "\n",
        "# Make predictions\n",
        "predictions = perceptron.predict(X)\n",
        "print(\"Predictions for XOR:\", predictions)\n"
      ],
      "metadata": {
        "colab": {
          "base_uri": "https://localhost:8080/"
        },
        "id": "tSYI3Eer9SMr",
        "outputId": "ce8f0c66-8013-4178-a2f7-8dbd9e7cd99e"
      },
      "execution_count": 39,
      "outputs": [
        {
          "output_type": "stream",
          "name": "stdout",
          "text": [
            "Predictions for XOR: [1 1 0 0]\n"
          ]
        }
      ]
    },
    {
      "cell_type": "markdown",
      "source": [
        "Since the XOR problem is not linearly separable, we observe that the single-layer perceptron is not able to correctly classify all the output classes(0's and 1's). The output shows that it is not able to classify correctly.\n",
        "\n",
        "Expected Output: [0,1,1,0]\n",
        "Actual Output: [1,1,0,0], failing to correctly classify XOR.\n",
        "\n",
        "This happens because XOR is not linearly separable and therefore a single layer perceptron is not able to classify the XOR. As we see in the XOR truth table, no straight line can perfectly separate the output classes. Therefore, a single-layer perceptron cannot solve this problem."
      ],
      "metadata": {
        "id": "CFDeB-N_-ZCi"
      }
    },
    {
      "cell_type": "markdown",
      "source": [
        "XOR using Multi-Layer Perceptron."
      ],
      "metadata": {
        "id": "onkEL_r1_eD8"
      }
    },
    {
      "cell_type": "code",
      "source": [
        "from sklearn.neural_network import MLPClassifier\n",
        "\n",
        "# Create MLP model with fixed random state\n",
        "mlp = MLPClassifier(hidden_layer_sizes=(2,), activation='relu', max_iter=1000, random_state=56)\n",
        "\n",
        "# Train the MLP on XOR data\n",
        "mlp.fit(X, y)\n",
        "\n",
        "# Make predictions\n",
        "mlp_predictions = mlp.predict(X)\n",
        "print(\"MLP Predictions for XOR:\", mlp_predictions)\n"
      ],
      "metadata": {
        "colab": {
          "base_uri": "https://localhost:8080/"
        },
        "id": "YuiKM16Y-S9w",
        "outputId": "7779755d-1a66-4ed4-b2e1-9416e2c357c1"
      },
      "execution_count": 55,
      "outputs": [
        {
          "output_type": "stream",
          "name": "stdout",
          "text": [
            "MLP Predictions for XOR: [0 1 1 0]\n"
          ]
        },
        {
          "output_type": "stream",
          "name": "stderr",
          "text": [
            "/usr/local/lib/python3.10/dist-packages/sklearn/neural_network/_multilayer_perceptron.py:690: ConvergenceWarning: Stochastic Optimizer: Maximum iterations (1000) reached and the optimization hasn't converged yet.\n",
            "  warnings.warn(\n"
          ]
        }
      ]
    },
    {
      "cell_type": "markdown",
      "source": [
        "Visualization"
      ],
      "metadata": {
        "id": "GIDsHztdHfEc"
      }
    },
    {
      "cell_type": "code",
      "source": [
        "import matplotlib.pyplot as plt\n",
        "\n",
        "def plot_decision_boundary(X, y, model):\n",
        "    # Create mesh grid\n",
        "    x_min, x_max = X[:, 0].min() - 1, X[:, 0].max() + 1\n",
        "    y_min, y_max = X[:, 1].min() - 1, X[:, 1].max() + 1\n",
        "    xx, yy = np.meshgrid(np.arange(x_min, x_max, 0.01), np.arange(y_min, y_max, 0.01))\n",
        "\n",
        "    # Predict for every point on the grid\n",
        "    Z = model.predict(np.c_[xx.ravel(), yy.ravel()])\n",
        "    Z = Z.reshape(xx.shape)\n",
        "\n",
        "    # Plot decision boundary\n",
        "    plt.contourf(xx, yy, Z, alpha=0.8)\n",
        "    plt.scatter(X[:, 0], X[:, 1], c=y, marker='o', s=100, edgecolor='k')\n",
        "    plt.title(\"Decision Boundary for XOR Classification\")\n",
        "    plt.show()\n",
        "\n",
        "# Plot decision boundary for MLP\n",
        "plot_decision_boundary(X, y, mlp)\n"
      ],
      "metadata": {
        "colab": {
          "base_uri": "https://localhost:8080/",
          "height": 472
        },
        "id": "-2Hfk-Uc_vg1",
        "outputId": "d4acf5d0-c72c-4c4c-f448-91fa18889d7d"
      },
      "execution_count": 29,
      "outputs": [
        {
          "output_type": "display_data",
          "data": {
            "text/plain": [
              "<Figure size 640x480 with 1 Axes>"
            ],
            "image/png": "[encoded data removed]"
          },
          "metadata": {}
        }
      ]
    },
    {
      "cell_type": "markdown",
      "source": [],
      "metadata": {
        "id": "bDRjq77i8zl8"
      }
    },
    {
      "cell_type": "markdown",
      "source": [
        "# Sentiment Analysis Twitter Airline"
      ],
      "metadata": {
        "id": "95Brw4lA8wDp"
      }
    },
    {
      "cell_type": "code",
      "execution_count": 3,
      "metadata": {
        "colab": {
          "base_uri": "https://localhost:8080/"
        },
        "id": "QEXs1W6m1cxN",
        "outputId": "29780995-1403-4124-ee19-b11ef5909d85"
      },
      "outputs": [
        {
          "output_type": "stream",
          "name": "stdout",
          "text": [
            "             tweet_id airline_sentiment  airline_sentiment_confidence  \\\n",
            "0  570306133677760513           neutral                        1.0000   \n",
            "1  570301130888122368          positive                        0.3486   \n",
            "2  570301083672813571           neutral                        0.6837   \n",
            "3  570301031407624196          negative                        1.0000   \n",
            "4  570300817074462722          negative                        1.0000   \n",
            "\n",
            "  negativereason  negativereason_confidence         airline  \\\n",
            "0            NaN                        NaN  Virgin America   \n",
            "1            NaN                     0.0000  Virgin America   \n",
            "2            NaN                        NaN  Virgin America   \n",
            "3     Bad Flight                     0.7033  Virgin America   \n",
            "4     Can't Tell                     1.0000  Virgin America   \n",
            "\n",
            "  airline_sentiment_gold        name negativereason_gold  retweet_count  \\\n",
            "0                    NaN     cairdin                 NaN              0   \n",
            "1                    NaN    jnardino                 NaN              0   \n",
            "2                    NaN  yvonnalynn                 NaN              0   \n",
            "3                    NaN    jnardino                 NaN              0   \n",
            "4                    NaN    jnardino                 NaN              0   \n",
            "\n",
            "                                                text tweet_coord  \\\n",
            "0                @VirginAmerica What @dhepburn said.         NaN   \n",
            "1  @VirginAmerica plus you've added commercials t...         NaN   \n",
            "2  @VirginAmerica I didn't today... Must mean I n...         NaN   \n",
            "3  @VirginAmerica it's really aggressive to blast...         NaN   \n",
            "4  @VirginAmerica and it's a really big bad thing...         NaN   \n",
            "\n",
            "               tweet_created tweet_location               user_timezone  \n",
            "0  2015-02-24 11:35:52 -0800            NaN  Eastern Time (US & Canada)  \n",
            "1  2015-02-24 11:15:59 -0800            NaN  Pacific Time (US & Canada)  \n",
            "2  2015-02-24 11:15:48 -0800      Lets Play  Central Time (US & Canada)  \n",
            "3  2015-02-24 11:15:36 -0800            NaN  Pacific Time (US & Canada)  \n",
            "4  2015-02-24 11:14:45 -0800            NaN  Pacific Time (US & Canada)  \n"
          ]
        }
      ],
      "source": [
        "import pandas as pd\n",
        "\n",
        "# Load the dataset\n",
        "file_path = \"/content/Tweets.csv\"\n",
        "df = pd.read_csv(file_path)\n",
        "print(df.head())\n"
      ]
    },
    {
      "cell_type": "code",
      "source": [
        "from sklearn.model_selection import train_test_split\n",
        "from sklearn.preprocessing import LabelEncoder\n",
        "from sklearn.feature_extraction.text import CountVectorizer\n",
        "from sklearn.preprocessing import StandardScaler\n",
        "\n",
        "X = df['text']\n",
        "y = df['airline_sentiment']\n",
        "\n",
        "# Vectorize the text data\n",
        "vectorizer = CountVectorizer(max_features=1000, stop_words='english')\n",
        "X_vectorized = vectorizer.fit_transform(X).toarray()\n",
        "\n",
        "# Encode the sentiment labels\n",
        "label_encoder = LabelEncoder()\n",
        "y_encoded = label_encoder.fit_transform(y)\n",
        "\n",
        "# Split into training and testing sets\n",
        "X_train, X_test, y_train, y_test = train_test_split(X_vectorized, y_encoded, test_size=0.2, random_state=42)\n"
      ],
      "metadata": {
        "id": "GsHIPBuk7LNI"
      },
      "execution_count": 5,
      "outputs": []
    },
    {
      "cell_type": "markdown",
      "source": [
        "We preprocess the dataset by extracting the relevant features and labels for analysis. The text data is vectorized using a Bag of Words model, which converts the textual information into numerical format while filtering out common stop words. Sentiment labels are then encoded into a numerical format suitable for classification. Finally, the dataset is divided into training and testing sets, ensuring that the model can be effectively trained and evaluated on distinct data portions."
      ],
      "metadata": {
        "id": "5rVYii0qELPH"
      }
    },
    {
      "cell_type": "code",
      "source": [
        "import numpy as np\n",
        "\n",
        "# Sigmoid activation function\n",
        "def sigmoid(x):\n",
        "    return 1 / (1 + np.exp(-x))\n",
        "\n",
        "# Derivative of sigmoid for backpropagation\n",
        "def sigmoid_derivative(x):\n",
        "    return x * (1 - x)\n",
        "\n",
        "# ReLU activation function\n",
        "def relu(x):\n",
        "    return np.maximum(0, x)\n",
        "\n",
        "# Derivative of ReLU for backpropagation\n",
        "def relu_derivative(x):\n",
        "    return np.where(x > 0, 1, 0)\n",
        "\n",
        "# Tanh activation function\n",
        "def tanh(x):\n",
        "    return np.tanh(x)\n",
        "\n",
        "# Derivative of tanh for backpropagation\n",
        "def tanh_derivative(x):\n",
        "    return 1 - np.tanh(x) ** 2\n",
        "\n",
        "# Define a basic Feed-Forward Neural Network with backpropagation\n",
        "class SimpleNeuralNetwork:\n",
        "    def __init__(self, input_size, hidden_size, output_size, activation='sigmoid', learning_rate=0.01):\n",
        "        # Initialize weights randomly\n",
        "        self.weights_input_hidden = np.random.randn(input_size, hidden_size)\n",
        "        self.weights_hidden_output = np.random.randn(hidden_size, output_size)\n",
        "        self.learning_rate = learning_rate\n",
        "\n",
        "        # Choose activation function\n",
        "        if activation == 'sigmoid':\n",
        "            self.activation = sigmoid\n",
        "            self.activation_derivative = sigmoid_derivative\n",
        "        elif activation == 'relu':\n",
        "            self.activation = relu\n",
        "            self.activation_derivative = relu_derivative\n",
        "        elif activation == 'tanh':\n",
        "            self.activation = tanh\n",
        "            self.activation_derivative = tanh_derivative\n",
        "\n",
        "    def forward(self, X):\n",
        "        # Forward propagation\n",
        "        self.hidden_input = np.dot(X, self.weights_input_hidden)\n",
        "        self.hidden_output = self.activation(self.hidden_input)\n",
        "\n",
        "        self.final_input = np.dot(self.hidden_output, self.weights_hidden_output)\n",
        "        self.final_output = sigmoid(self.final_input)  # Output layer uses sigmoid for binary classification\n",
        "        return self.final_output\n",
        "\n",
        "    def backward(self, X, y, output):\n",
        "        # Backward propagation to update weights\n",
        "        error = y - output  # Error in output layer\n",
        "        output_delta = error * sigmoid_derivative(output)\n",
        "\n",
        "        hidden_error = output_delta.dot(self.weights_hidden_output.T)\n",
        "        hidden_delta = hidden_error * self.activation_derivative(self.hidden_output)\n",
        "\n",
        "        # Update weights\n",
        "        self.weights_hidden_output += self.hidden_output.T.dot(output_delta) * self.learning_rate\n",
        "        self.weights_input_hidden += X.T.dot(hidden_delta) * self.learning_rate\n",
        "\n",
        "    def train(self, X, y, epochs=1000):\n",
        "        losses = []\n",
        "        for epoch in range(epochs):\n",
        "            output = self.forward(X)\n",
        "            self.backward(X, y, output)\n",
        "\n",
        "            # Calculate and store the loss (mean squared error)\n",
        "            loss = np.mean((y - output) ** 2)\n",
        "            losses.append(loss)\n",
        "\n",
        "            if epoch % 100 == 0:\n",
        "                print(f'Epoch {epoch}, Loss: {loss}')\n",
        "\n",
        "        return losses\n",
        "\n",
        "    def predict(self, X):\n",
        "        output = self.forward(X)\n",
        "        # Binary classification: round the output to 0 or 1\n",
        "        return np.round(output)\n"
      ],
      "metadata": {
        "id": "xwmasXBb8T8_"
      },
      "execution_count": 6,
      "outputs": []
    },
    {
      "cell_type": "markdown",
      "source": [
        "Implementing a simple feed-forward neural network with backpropagation. We define various activation functions: sigmoid, ReLU, and tanh. The \"SimpleNeuralNetwork\" class initializes the network with random weights and allows the user to select an activation function. The \"forward\" method performs forward propagation, calculating outputs through the network. The \"backward\" method updates the weights based on the error between predicted and actual outputs, using gradient descent. The training process is executed for a specified number of epochs, calculating the mean squared error loss."
      ],
      "metadata": {
        "id": "ESToJkVGFZjZ"
      }
    },
    {
      "cell_type": "code",
      "source": [
        "# Convert labels to the right shape for binary classification\n",
        "y_train = y_train.reshape(-1, 1)\n",
        "y_test = y_test.reshape(-1, 1)\n",
        "\n",
        "# Initialize the model with the activation function ('sigmoid', 'relu', 'tanh')\n",
        "nn = SimpleNeuralNetwork(input_size=X_train.shape[1], hidden_size=10, output_size=1, activation='sigmoid', learning_rate=0.01)\n",
        "\n",
        "# Train the model\n",
        "losses = nn.train(X_train, y_train, epochs=1000)\n",
        "\n",
        "# Plot the loss over epochs\n",
        "import matplotlib.pyplot as plt\n",
        "plt.plot(losses)\n",
        "plt.title('Loss over Epochs')\n",
        "plt.xlabel('Epochs')\n",
        "plt.ylabel('Loss')\n",
        "plt.show()\n",
        "\n",
        "# Evaluate the model on test set\n",
        "predictions = nn.predict(X_test)\n",
        "accuracy = np.mean(predictions == y_test) * 100\n",
        "print(f'Test Set Accuracy: {accuracy:.2f}%')\n"
      ],
      "metadata": {
        "colab": {
          "base_uri": "https://localhost:8080/",
          "height": 683
        },
        "id": "EcUxMcJx8pcc",
        "outputId": "ba1432a1-d574-46cc-c310-a6753ddacb5a"
      },
      "execution_count": 7,
      "outputs": [
        {
          "output_type": "stream",
          "name": "stdout",
          "text": [
            "Epoch 0, Loss: 0.6124998666046387\n",
            "Epoch 100, Loss: 0.35957255503498065\n",
            "Epoch 200, Loss: 0.3097612367281376\n",
            "Epoch 300, Loss: 0.2868465251616022\n",
            "Epoch 400, Loss: 0.2934806336713624\n",
            "Epoch 500, Loss: 0.2659309226810549\n",
            "Epoch 600, Loss: 0.2460844388466548\n",
            "Epoch 700, Loss: 0.2405045477936976\n",
            "Epoch 800, Loss: 0.23641507667669842\n",
            "Epoch 900, Loss: 0.2329582506914111\n"
          ]
        },
        {
          "output_type": "display_data",
          "data": {
            "text/plain": [
              "<Figure size 640x480 with 1 Axes>"
            ],
            "image/png": "[encoded data removed]"
          },
          "metadata": {}
        },
        {
          "output_type": "stream",
          "name": "stdout",
          "text": [
            "Test Set Accuracy: 66.56%\n"
          ]
        }
      ]
    },
    {
      "cell_type": "code",
      "source": [
        "# Using ReLU activation\n",
        "nn_relu = SimpleNeuralNetwork(input_size=X_train.shape[1], hidden_size=10, output_size=1, activation='relu', learning_rate=0.01)\n",
        "losses_relu = nn_relu.train(X_train, y_train, epochs=1000)\n",
        "\n",
        "# Plot the loss for ReLU activation\n",
        "plt.plot(losses_relu)\n",
        "plt.title('Loss over Epochs with ReLU Activation')\n",
        "plt.xlabel('Epochs')\n",
        "plt.ylabel('Loss')\n",
        "plt.show()\n"
      ],
      "metadata": {
        "colab": {
          "base_uri": "https://localhost:8080/",
          "height": 666
        },
        "id": "EDr8XXdxBL4J",
        "outputId": "ef4c23ba-cbb2-4dce-e149-2ba81f52d7f9"
      },
      "execution_count": 38,
      "outputs": [
        {
          "output_type": "stream",
          "name": "stdout",
          "text": [
            "Epoch 0, Loss: 0.7985573053506407\n",
            "Epoch 100, Loss: 0.3304444255251359\n",
            "Epoch 200, Loss: 0.2878131471843249\n",
            "Epoch 300, Loss: 0.278658731422711\n",
            "Epoch 400, Loss: 0.266292850809796\n",
            "Epoch 500, Loss: 0.2648457213887635\n",
            "Epoch 600, Loss: 0.2633371277817701\n",
            "Epoch 700, Loss: 0.26295885198620295\n",
            "Epoch 800, Loss: 0.26238447071919935\n",
            "Epoch 900, Loss: 0.261825875946553\n"
          ]
        },
        {
          "output_type": "display_data",
          "data": {
            "text/plain": [
              "<Figure size 640x480 with 1 Axes>"
            ],
            "image/png": "[encoded data removed]"
          },
          "metadata": {}
        }
      ]
    }
  ]
}